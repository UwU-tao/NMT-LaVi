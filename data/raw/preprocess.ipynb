{
 "cells": [
  {
   "cell_type": "code",
   "execution_count": 1,
   "metadata": {},
   "outputs": [],
   "source": [
    "import re, string, html, laonlp, underthesea"
   ]
  },
  {
   "cell_type": "code",
   "execution_count": 21,
   "metadata": {},
   "outputs": [],
   "source": [
    "with open('../raw/dev2023.lo', 'r', encoding='utf-8') as f, open('../prepared/dev2023.lo', 'w', encoding='utf-8') as f2:\n",
    "  lines = f.readlines()\n",
    "  for line in lines:\n",
    "    line = laonlp.tokenize.word_tokenize(line)\n",
    "    line = [x for x in line if x != ' ']\n",
    "    line = ' '.join(line)\n",
    "    f2.write(line)"
   ]
  },
  {
   "cell_type": "code",
   "execution_count": 22,
   "metadata": {},
   "outputs": [],
   "source": [
    "from underthesea import word_tokenize\n",
    "with open('../raw/dev2023.vi', 'r', encoding='utf-8') as f, open('../prepared/dev2023.vi', 'w', encoding='utf-8') as f2:\n",
    "  lines = f.readlines()\n",
    "  for line in lines:\n",
    "    line = word_tokenize(line)\n",
    "    line = ' '.join(line)\n",
    "    f2.write(line + '\\n')"
   ]
  },
  {
   "cell_type": "code",
   "execution_count": 6,
   "metadata": {},
   "outputs": [],
   "source": [
    "# import numpy as np\n",
    "# data_la = np.array(data_la)\n",
    "# data_vi = np.array(data_vi)"
   ]
  },
  {
   "cell_type": "code",
   "execution_count": 77,
   "metadata": {},
   "outputs": [],
   "source": [
    "with open('../pre_processed/train2023.lo', 'r', encoding='utf-8') as f: \n",
    "    data_la = f.readlines()\n",
    "    \n",
    "with open('../pre_processed/train2023.vi', 'r', encoding='utf-8') as f2:\n",
    "    data_vi = f2.readlines()"
   ]
  },
  {
   "cell_type": "code",
   "execution_count": 78,
   "metadata": {},
   "outputs": [],
   "source": [
    "import numpy as np\n",
    "data_la = np.array(data_la)\n",
    "data_vi = np.array(data_vi)"
   ]
  },
  {
   "cell_type": "code",
   "execution_count": 79,
   "metadata": {},
   "outputs": [],
   "source": [
    "# f1 = [x for x,y in enumerate(data_vi) if len(y) ]\n",
    "f2 = [x for x,y in enumerate(data_vi) if len(y) > 300]"
   ]
  },
  {
   "cell_type": "code",
   "execution_count": 80,
   "metadata": {},
   "outputs": [],
   "source": [
    "t = np.delete(data_vi, f2)"
   ]
  },
  {
   "cell_type": "code",
   "execution_count": 81,
   "metadata": {},
   "outputs": [],
   "source": [
    "t2 = np.delete(data_la, f2)"
   ]
  },
  {
   "cell_type": "code",
   "execution_count": 82,
   "metadata": {},
   "outputs": [
    {
     "name": "stdout",
     "output_type": "stream",
     "text": [
      "74243 74243\n"
     ]
    }
   ],
   "source": [
    "print(len(t), len(t2))"
   ]
  },
  {
   "cell_type": "code",
   "execution_count": 83,
   "metadata": {},
   "outputs": [],
   "source": [
    "with open('../pre_processed/train2023.vi', 'w', encoding='utf-8') as f:\n",
    "  for line in t:\n",
    "    f.write(line)"
   ]
  },
  {
   "cell_type": "code",
   "execution_count": 84,
   "metadata": {},
   "outputs": [],
   "source": [
    "with open('../pre_processed/train2023.lo', 'w', encoding='utf-8') as f:\n",
    "  for line in t2:\n",
    "    f.write(line)"
   ]
  },
  {
   "cell_type": "code",
   "execution_count": null,
   "metadata": {},
   "outputs": [],
   "source": []
  }
 ],
 "metadata": {
  "kernelspec": {
   "display_name": "hieu",
   "language": "python",
   "name": "python3"
  },
  "language_info": {
   "codemirror_mode": {
    "name": "ipython",
    "version": 3
   },
   "file_extension": ".py",
   "mimetype": "text/x-python",
   "name": "python",
   "nbconvert_exporter": "python",
   "pygments_lexer": "ipython3",
   "version": "3.10.12"
  }
 },
 "nbformat": 4,
 "nbformat_minor": 2
}
