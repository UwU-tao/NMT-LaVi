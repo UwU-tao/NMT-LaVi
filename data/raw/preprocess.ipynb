{
 "cells": [
  {
   "cell_type": "code",
   "execution_count": 1,
   "metadata": {},
   "outputs": [],
   "source": [
    "import re, string, html, laonlp, underthesea"
   ]
  },
  {
   "cell_type": "code",
   "execution_count": 33,
   "metadata": {},
   "outputs": [],
   "source": [
    "with open('../raw/train2023.lo', 'r', encoding='utf-8') as f, open('../prepared/train2023.lo', 'w', encoding='utf-8') as f2:\n",
    "  lines = f.readlines()\n",
    "  for line in lines:\n",
    "    line = laonlp.tokenize.word_tokenize(line)\n",
    "    line = [x for x in line if x != ' ']\n",
    "    line = ' '.join(line)\n",
    "    f2.write(line)"
   ]
  },
  {
   "cell_type": "code",
   "execution_count": 34,
   "metadata": {},
   "outputs": [],
   "source": [
    "from underthesea import word_tokenize\n",
    "with open('../raw/train2023.vi', 'r', encoding='utf-8') as f, open('../prepared/train2023.vi', 'w', encoding='utf-8') as f2:\n",
    "  lines = f.readlines()\n",
    "  for line in lines:\n",
    "    line = word_tokenize(line)\n",
    "    line = ' '.join(line)\n",
    "    f2.write(line + '\\n')"
   ]
  },
  {
   "cell_type": "code",
   "execution_count": 1,
   "metadata": {},
   "outputs": [],
   "source": [
    "with open('../prepared/train2023.lo', 'r', encoding='utf-8') as f: \n",
    "    data_la = f.readlines()\n",
    "    \n",
    "with open('../prepared/train2023.vi', 'r', encoding='utf-8') as f2:\n",
    "    data_vi = f2.readlines()"
   ]
  },
  {
   "cell_type": "code",
   "execution_count": 2,
   "metadata": {},
   "outputs": [],
   "source": [
    "import numpy as np\n",
    "data_la = np.array(data_la)\n",
    "data_vi = np.array(data_vi)"
   ]
  },
  {
   "cell_type": "code",
   "execution_count": 6,
   "metadata": {},
   "outputs": [],
   "source": [
    "# f1 = [x for x,y in enumerate(data_vi) if len(y) ]\n",
    "f2 = [x for x,y in enumerate(data_vi) if len(y) > 300]"
   ]
  },
  {
   "cell_type": "code",
   "execution_count": 7,
   "metadata": {},
   "outputs": [],
   "source": [
    "t = np.delete(data_vi, f2)"
   ]
  },
  {
   "cell_type": "code",
   "execution_count": 8,
   "metadata": {},
   "outputs": [],
   "source": [
    "t2 = np.delete(data_la, f2)"
   ]
  },
  {
   "cell_type": "code",
   "execution_count": 9,
   "metadata": {},
   "outputs": [
    {
     "name": "stdout",
     "output_type": "stream",
     "text": [
      "91482 91482\n"
     ]
    }
   ],
   "source": [
    "print(len(t), len(t2))"
   ]
  },
  {
   "cell_type": "code",
   "execution_count": 11,
   "metadata": {},
   "outputs": [],
   "source": [
    "with open('../test/train2023.vi', 'w', encoding='utf-8') as f:\n",
    "  for line in data_vi:\n",
    "    f.write(line)"
   ]
  },
  {
   "cell_type": "code",
   "execution_count": 12,
   "metadata": {},
   "outputs": [],
   "source": [
    "with open('../test/train2023.lo', 'w', encoding='utf-8') as f:\n",
    "  for line in data_la:\n",
    "    f.write(line)"
   ]
  },
  {
   "cell_type": "code",
   "execution_count": 10,
   "metadata": {},
   "outputs": [],
   "source": [
    "cut_off_la = t2[:1500]\n",
    "cut_off_vi = t[:1500]\n",
    "data_la = t2[1500:]\n",
    "data_vi = t[1500:]\n",
    "\n",
    "with open('../test/test.vi', 'w', encoding='utf-8') as f:\n",
    "  for line in cut_off_vi:\n",
    "    f.write(line)\n",
    "    \n",
    "with open('../test/test.lo', 'w', encoding='utf-8') as f:\n",
    "  for line in cut_off_la:\n",
    "    f.write(line)"
   ]
  },
  {
   "cell_type": "code",
   "execution_count": null,
   "metadata": {},
   "outputs": [],
   "source": []
  }
 ],
 "metadata": {
  "kernelspec": {
   "display_name": "hieu",
   "language": "python",
   "name": "python3"
  },
  "language_info": {
   "codemirror_mode": {
    "name": "ipython",
    "version": 3
   },
   "file_extension": ".py",
   "mimetype": "text/x-python",
   "name": "python",
   "nbconvert_exporter": "python",
   "pygments_lexer": "ipython3",
   "version": "3.10.12"
  }
 },
 "nbformat": 4,
 "nbformat_minor": 2
}
